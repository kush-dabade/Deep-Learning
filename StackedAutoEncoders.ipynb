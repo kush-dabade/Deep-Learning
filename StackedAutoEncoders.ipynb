{
  "nbformat": 4,
  "nbformat_minor": 0,
  "metadata": {
    "colab": {
      "provenance": [],
      "gpuType": "T4"
    },
    "kernelspec": {
      "name": "python3",
      "display_name": "Python 3"
    },
    "accelerator": "GPU"
  },
  "cells": [
    {
      "cell_type": "markdown",
      "metadata": {
        "id": "mRfllOFCeNIe"
      },
      "source": [
        "## Importing the libraries"
      ]
    },
    {
      "cell_type": "code",
      "metadata": {
        "id": "ZVdzTkqHehem"
      },
      "source": [
        "import numpy as np\n",
        "import pandas as pd\n",
        "import torch\n",
        "import torch.nn as nn\n",
        "import torch.nn.parallel\n",
        "import torch.optim as optim\n",
        "import torch.utils.data\n",
        "from torch.autograd import Variable"
      ],
      "execution_count": 1,
      "outputs": []
    },
    {
      "cell_type": "markdown",
      "metadata": {
        "id": "ncWa_a4Zek9k"
      },
      "source": [
        "## Importing the dataset"
      ]
    },
    {
      "cell_type": "code",
      "metadata": {
        "id": "bvcjT5Uqeqrj"
      },
      "source": [
        "movies = pd.read_csv('ml-1m/movies.dat', sep= '::',header= None,engine= 'python', encoding= 'latin-1' )\n",
        "users = pd.read_csv('ml-1m/users.dat', sep= '::',header= None,engine= 'python', encoding= 'latin-1' )\n",
        "ratings = pd.read_csv('ml-1m/ratings.dat', sep= '::',header= None,engine= 'python', encoding= 'latin-1' )"
      ],
      "execution_count": 2,
      "outputs": []
    },
    {
      "cell_type": "markdown",
      "metadata": {
        "id": "VxJyeJVSeuYF"
      },
      "source": [
        "## Preparing the training set and the test set"
      ]
    },
    {
      "cell_type": "code",
      "source": [
        "training_set = pd.read_csv('ml-100k/u1.base', delimiter= '\\t')\n",
        "training_set = np.array(training_set, dtype = 'int')\n",
        "test_set = pd.read_csv('ml-100k/u1.test', delimiter= '\\t')\n",
        "test_set = np.array(test_set, dtype = 'int')"
      ],
      "metadata": {
        "id": "BvXr7BMbxr_L"
      },
      "execution_count": 3,
      "outputs": []
    },
    {
      "cell_type": "markdown",
      "metadata": {
        "id": "t6AZsqV0fBth"
      },
      "source": [
        "## Getting the number of users and movies"
      ]
    },
    {
      "cell_type": "code",
      "source": [
        "nb_users = int(max(max(training_set[:,0]),max(test_set[:,0])))\n",
        "nb_movies = int(max(max(training_set[:,1]),max(test_set[:,1])))"
      ],
      "metadata": {
        "id": "tWWn8lc3z75h"
      },
      "execution_count": 4,
      "outputs": []
    },
    {
      "cell_type": "markdown",
      "metadata": {
        "id": "BduAm9XTfJ5M"
      },
      "source": [
        "## Converting the data into an array with users in lines and movies in columns"
      ]
    },
    {
      "cell_type": "code",
      "source": [
        "def convert(data):\n",
        "  new_data = []\n",
        "  for id_users in range(1, nb_users + 1):\n",
        "    id_movies = data[:, 1][data[:,0] == id_users]\n",
        "    id_ratings = data[:, 2][data[:,0] == id_users]\n",
        "    ratings = np.zeros(nb_movies)\n",
        "    ratings[id_movies - 1] = id_ratings\n",
        "    new_data.append(list(ratings))\n",
        "  return new_data"
      ],
      "metadata": {
        "id": "Xn1ZSVpj1ZX_"
      },
      "execution_count": 5,
      "outputs": []
    },
    {
      "cell_type": "code",
      "source": [
        "training_set = convert(training_set)\n",
        "test_set = convert(test_set)"
      ],
      "metadata": {
        "id": "_T6b7X2p3dP6"
      },
      "execution_count": 6,
      "outputs": []
    },
    {
      "cell_type": "markdown",
      "metadata": {
        "id": "eDMTdRohfca9"
      },
      "source": [
        "## Converting the data into Torch tensors"
      ]
    },
    {
      "cell_type": "code",
      "source": [
        "training_set = torch.FloatTensor(training_set)\n",
        "test_set = torch.FloatTensor(test_set)"
      ],
      "metadata": {
        "id": "MtfUxmS83_N9"
      },
      "execution_count": 7,
      "outputs": []
    },
    {
      "cell_type": "markdown",
      "metadata": {
        "id": "68DIciQ1fifc"
      },
      "source": [
        "## Creating the architecture of the Neural Network"
      ]
    },
    {
      "cell_type": "code",
      "source": [
        "class SAE(nn.Module):\n",
        "    def __init__(self, ):\n",
        "        super(SAE, self).__init__()\n",
        "        self.fc1 = nn.Linear(nb_movies, 20)\n",
        "        self.fc2 = nn.Linear(20, 10)\n",
        "        self.fc3 = nn.Linear(10, 20)\n",
        "        self.fc4 = nn.Linear(20, nb_movies)\n",
        "        self.activation = nn.Sigmoid()\n",
        "    def forward(self, x):\n",
        "        x = self.activation(self.fc1(x))\n",
        "        x = self.activation(self.fc2(x))\n",
        "        x = self.activation(self.fc3(x))\n",
        "        x = self.fc4(x)\n",
        "        return x"
      ],
      "metadata": {
        "id": "ejltXjhU5Z9C"
      },
      "execution_count": 8,
      "outputs": []
    },
    {
      "cell_type": "code",
      "source": [
        "sae = SAE()\n",
        "criterion = nn.MSELoss()\n",
        "optimizer = optim.RMSprop(sae.parameters(), lr = 0.01, weight_decay = 0.5)"
      ],
      "metadata": {
        "id": "hpc2Rr-j-omK"
      },
      "execution_count": 9,
      "outputs": []
    },
    {
      "cell_type": "markdown",
      "metadata": {
        "id": "Zn8Zl34Ofpe_"
      },
      "source": [
        "## Training the SAE"
      ]
    },
    {
      "cell_type": "code",
      "source": [
        "nb_epoch = 200\n",
        "for epoch in range(1, nb_epoch + 1):\n",
        "    train_loss = 0\n",
        "    s = 0.\n",
        "    for id_user in range(nb_users):\n",
        "        input = Variable(training_set[id_user]).unsqueeze(0)\n",
        "        target = input.clone()\n",
        "        if torch.sum(target.data > 0) > 0:\n",
        "            output = sae(input)\n",
        "            target.require_grad = False\n",
        "            output[target == 0] = 0\n",
        "            loss = criterion(output, target)\n",
        "            mean_corrector = nb_movies/float(torch.sum(target.data > 0) + 1e-10)\n",
        "            loss.backward()\n",
        "            train_loss += np.sqrt(loss.data*mean_corrector)\n",
        "            s += 1.\n",
        "            optimizer.step()\n",
        "    print('epoch: '+str(epoch)+' loss: '+str(train_loss/s))"
      ],
      "metadata": {
        "colab": {
          "base_uri": "https://localhost:8080/"
        },
        "id": "PuFIppZDARjH",
        "outputId": "f749ccc3-6015-4c5b-f706-b437adc0d02f"
      },
      "execution_count": 10,
      "outputs": [
        {
          "output_type": "stream",
          "name": "stderr",
          "text": [
            "/tmp/ipython-input-1130214824.py:15: DeprecationWarning: __array_wrap__ must accept context and return_scalar arguments (positionally) in the future. (Deprecated NumPy 2.0)\n",
            "  train_loss += np.sqrt(loss.data*mean_corrector)\n"
          ]
        },
        {
          "output_type": "stream",
          "name": "stdout",
          "text": [
            "epoch: 1 loss: tensor(1.7723)\n",
            "epoch: 2 loss: tensor(1.0967)\n",
            "epoch: 3 loss: tensor(1.0534)\n",
            "epoch: 4 loss: tensor(1.0382)\n",
            "epoch: 5 loss: tensor(1.0309)\n",
            "epoch: 6 loss: tensor(1.0266)\n",
            "epoch: 7 loss: tensor(1.0239)\n",
            "epoch: 8 loss: tensor(1.0220)\n",
            "epoch: 9 loss: tensor(1.0207)\n",
            "epoch: 10 loss: tensor(1.0197)\n",
            "epoch: 11 loss: tensor(1.0190)\n",
            "epoch: 12 loss: tensor(1.0181)\n",
            "epoch: 13 loss: tensor(1.0180)\n",
            "epoch: 14 loss: tensor(1.0172)\n",
            "epoch: 15 loss: tensor(1.0173)\n",
            "epoch: 16 loss: tensor(1.0168)\n",
            "epoch: 17 loss: tensor(1.0167)\n",
            "epoch: 18 loss: tensor(1.0164)\n",
            "epoch: 19 loss: tensor(1.0164)\n",
            "epoch: 20 loss: tensor(1.0164)\n",
            "epoch: 21 loss: tensor(1.0159)\n",
            "epoch: 22 loss: tensor(1.0161)\n",
            "epoch: 23 loss: tensor(1.0158)\n",
            "epoch: 24 loss: tensor(1.0157)\n",
            "epoch: 25 loss: tensor(1.0156)\n",
            "epoch: 26 loss: tensor(1.0155)\n",
            "epoch: 27 loss: tensor(1.0152)\n",
            "epoch: 28 loss: tensor(1.0152)\n",
            "epoch: 29 loss: tensor(1.0129)\n",
            "epoch: 30 loss: tensor(1.0113)\n",
            "epoch: 31 loss: tensor(1.0107)\n",
            "epoch: 32 loss: tensor(1.0080)\n",
            "epoch: 33 loss: tensor(1.0083)\n",
            "epoch: 34 loss: tensor(1.0043)\n",
            "epoch: 35 loss: tensor(1.0037)\n",
            "epoch: 36 loss: tensor(1.0002)\n",
            "epoch: 37 loss: tensor(0.9990)\n",
            "epoch: 38 loss: tensor(0.9959)\n",
            "epoch: 39 loss: tensor(0.9958)\n",
            "epoch: 40 loss: tensor(0.9930)\n",
            "epoch: 41 loss: tensor(0.9916)\n",
            "epoch: 42 loss: tensor(0.9909)\n",
            "epoch: 43 loss: tensor(0.9886)\n",
            "epoch: 44 loss: tensor(0.9855)\n",
            "epoch: 45 loss: tensor(0.9873)\n",
            "epoch: 46 loss: tensor(0.9846)\n",
            "epoch: 47 loss: tensor(0.9851)\n",
            "epoch: 48 loss: tensor(0.9811)\n",
            "epoch: 49 loss: tensor(0.9856)\n",
            "epoch: 50 loss: tensor(0.9765)\n",
            "epoch: 51 loss: tensor(0.9816)\n",
            "epoch: 52 loss: tensor(0.9817)\n",
            "epoch: 53 loss: tensor(0.9771)\n",
            "epoch: 54 loss: tensor(0.9710)\n",
            "epoch: 55 loss: tensor(0.9745)\n",
            "epoch: 56 loss: tensor(0.9720)\n",
            "epoch: 57 loss: tensor(0.9722)\n",
            "epoch: 58 loss: tensor(0.9702)\n",
            "epoch: 59 loss: tensor(0.9699)\n",
            "epoch: 60 loss: tensor(0.9664)\n",
            "epoch: 61 loss: tensor(0.9655)\n",
            "epoch: 62 loss: tensor(0.9634)\n",
            "epoch: 63 loss: tensor(0.9626)\n",
            "epoch: 64 loss: tensor(0.9682)\n",
            "epoch: 65 loss: tensor(0.9695)\n",
            "epoch: 66 loss: tensor(0.9721)\n",
            "epoch: 67 loss: tensor(0.9684)\n",
            "epoch: 68 loss: tensor(0.9635)\n",
            "epoch: 69 loss: tensor(0.9659)\n",
            "epoch: 70 loss: tensor(0.9640)\n",
            "epoch: 71 loss: tensor(0.9651)\n",
            "epoch: 72 loss: tensor(0.9587)\n",
            "epoch: 73 loss: tensor(0.9609)\n",
            "epoch: 74 loss: tensor(0.9639)\n",
            "epoch: 75 loss: tensor(0.9681)\n",
            "epoch: 76 loss: tensor(0.9639)\n",
            "epoch: 77 loss: tensor(0.9626)\n",
            "epoch: 78 loss: tensor(0.9604)\n",
            "epoch: 79 loss: tensor(0.9624)\n",
            "epoch: 80 loss: tensor(0.9581)\n",
            "epoch: 81 loss: tensor(0.9582)\n",
            "epoch: 82 loss: tensor(0.9582)\n",
            "epoch: 83 loss: tensor(0.9644)\n",
            "epoch: 84 loss: tensor(0.9584)\n",
            "epoch: 85 loss: tensor(0.9573)\n",
            "epoch: 86 loss: tensor(0.9549)\n",
            "epoch: 87 loss: tensor(0.9539)\n",
            "epoch: 88 loss: tensor(0.9512)\n",
            "epoch: 89 loss: tensor(0.9506)\n",
            "epoch: 90 loss: tensor(0.9478)\n",
            "epoch: 91 loss: tensor(0.9492)\n",
            "epoch: 92 loss: tensor(0.9484)\n",
            "epoch: 93 loss: tensor(0.9493)\n",
            "epoch: 94 loss: tensor(0.9479)\n",
            "epoch: 95 loss: tensor(0.9469)\n",
            "epoch: 96 loss: tensor(0.9467)\n",
            "epoch: 97 loss: tensor(0.9459)\n",
            "epoch: 98 loss: tensor(0.9450)\n",
            "epoch: 99 loss: tensor(0.9457)\n",
            "epoch: 100 loss: tensor(0.9422)\n",
            "epoch: 101 loss: tensor(0.9425)\n",
            "epoch: 102 loss: tensor(0.9414)\n",
            "epoch: 103 loss: tensor(0.9456)\n",
            "epoch: 104 loss: tensor(0.9470)\n",
            "epoch: 105 loss: tensor(0.9438)\n",
            "epoch: 106 loss: tensor(0.9410)\n",
            "epoch: 107 loss: tensor(0.9404)\n",
            "epoch: 108 loss: tensor(0.9399)\n",
            "epoch: 109 loss: tensor(0.9430)\n",
            "epoch: 110 loss: tensor(0.9394)\n",
            "epoch: 111 loss: tensor(0.9394)\n",
            "epoch: 112 loss: tensor(0.9378)\n",
            "epoch: 113 loss: tensor(0.9388)\n",
            "epoch: 114 loss: tensor(0.9381)\n",
            "epoch: 115 loss: tensor(0.9399)\n",
            "epoch: 116 loss: tensor(0.9384)\n",
            "epoch: 117 loss: tensor(0.9457)\n",
            "epoch: 118 loss: tensor(0.9556)\n",
            "epoch: 119 loss: tensor(0.9455)\n",
            "epoch: 120 loss: tensor(0.9393)\n",
            "epoch: 121 loss: tensor(0.9375)\n",
            "epoch: 122 loss: tensor(0.9363)\n",
            "epoch: 123 loss: tensor(0.9377)\n",
            "epoch: 124 loss: tensor(0.9349)\n",
            "epoch: 125 loss: tensor(0.9359)\n",
            "epoch: 126 loss: tensor(0.9338)\n",
            "epoch: 127 loss: tensor(0.9342)\n",
            "epoch: 128 loss: tensor(0.9342)\n",
            "epoch: 129 loss: tensor(0.9346)\n",
            "epoch: 130 loss: tensor(0.9325)\n",
            "epoch: 131 loss: tensor(0.9333)\n",
            "epoch: 132 loss: tensor(0.9326)\n",
            "epoch: 133 loss: tensor(0.9329)\n",
            "epoch: 134 loss: tensor(0.9321)\n",
            "epoch: 135 loss: tensor(0.9325)\n",
            "epoch: 136 loss: tensor(0.9320)\n",
            "epoch: 137 loss: tensor(0.9317)\n",
            "epoch: 138 loss: tensor(0.9323)\n",
            "epoch: 139 loss: tensor(0.9320)\n",
            "epoch: 140 loss: tensor(0.9308)\n",
            "epoch: 141 loss: tensor(0.9314)\n",
            "epoch: 142 loss: tensor(0.9302)\n",
            "epoch: 143 loss: tensor(0.9307)\n",
            "epoch: 144 loss: tensor(0.9295)\n",
            "epoch: 145 loss: tensor(0.9302)\n",
            "epoch: 146 loss: tensor(0.9294)\n",
            "epoch: 147 loss: tensor(0.9295)\n",
            "epoch: 148 loss: tensor(0.9289)\n",
            "epoch: 149 loss: tensor(0.9294)\n",
            "epoch: 150 loss: tensor(0.9282)\n",
            "epoch: 151 loss: tensor(0.9284)\n",
            "epoch: 152 loss: tensor(0.9280)\n",
            "epoch: 153 loss: tensor(0.9284)\n",
            "epoch: 154 loss: tensor(0.9278)\n",
            "epoch: 155 loss: tensor(0.9280)\n",
            "epoch: 156 loss: tensor(0.9268)\n",
            "epoch: 157 loss: tensor(0.9271)\n",
            "epoch: 158 loss: tensor(0.9266)\n",
            "epoch: 159 loss: tensor(0.9268)\n",
            "epoch: 160 loss: tensor(0.9261)\n",
            "epoch: 161 loss: tensor(0.9265)\n",
            "epoch: 162 loss: tensor(0.9257)\n",
            "epoch: 163 loss: tensor(0.9271)\n",
            "epoch: 164 loss: tensor(0.9255)\n",
            "epoch: 165 loss: tensor(0.9258)\n",
            "epoch: 166 loss: tensor(0.9254)\n",
            "epoch: 167 loss: tensor(0.9255)\n",
            "epoch: 168 loss: tensor(0.9246)\n",
            "epoch: 169 loss: tensor(0.9250)\n",
            "epoch: 170 loss: tensor(0.9244)\n",
            "epoch: 171 loss: tensor(0.9253)\n",
            "epoch: 172 loss: tensor(0.9239)\n",
            "epoch: 173 loss: tensor(0.9243)\n",
            "epoch: 174 loss: tensor(0.9229)\n",
            "epoch: 175 loss: tensor(0.9239)\n",
            "epoch: 176 loss: tensor(0.9235)\n",
            "epoch: 177 loss: tensor(0.9237)\n",
            "epoch: 178 loss: tensor(0.9232)\n",
            "epoch: 179 loss: tensor(0.9231)\n",
            "epoch: 180 loss: tensor(0.9227)\n",
            "epoch: 181 loss: tensor(0.9219)\n",
            "epoch: 182 loss: tensor(0.9219)\n",
            "epoch: 183 loss: tensor(0.9226)\n",
            "epoch: 184 loss: tensor(0.9216)\n",
            "epoch: 185 loss: tensor(0.9222)\n",
            "epoch: 186 loss: tensor(0.9217)\n",
            "epoch: 187 loss: tensor(0.9223)\n",
            "epoch: 188 loss: tensor(0.9215)\n",
            "epoch: 189 loss: tensor(0.9221)\n",
            "epoch: 190 loss: tensor(0.9207)\n",
            "epoch: 191 loss: tensor(0.9213)\n",
            "epoch: 192 loss: tensor(0.9208)\n",
            "epoch: 193 loss: tensor(0.9207)\n",
            "epoch: 194 loss: tensor(0.9205)\n",
            "epoch: 195 loss: tensor(0.9206)\n",
            "epoch: 196 loss: tensor(0.9199)\n",
            "epoch: 197 loss: tensor(0.9211)\n",
            "epoch: 198 loss: tensor(0.9197)\n",
            "epoch: 199 loss: tensor(0.9202)\n",
            "epoch: 200 loss: tensor(0.9194)\n"
          ]
        }
      ]
    },
    {
      "cell_type": "markdown",
      "metadata": {
        "id": "BYTV81Yif0Sc"
      },
      "source": [
        "## Testing the SAE"
      ]
    },
    {
      "cell_type": "code",
      "source": [
        "test_loss = 0\n",
        "s = 0.\n",
        "for id_user in range(nb_users):\n",
        "    input = Variable(training_set[id_user]).unsqueeze(0)\n",
        "    target = Variable(test_set[id_user]).unsqueeze(0)\n",
        "    if torch.sum(target.data > 0) > 0:\n",
        "        output = sae(input)\n",
        "        target.require_grad = False\n",
        "        output[target == 0] = 0\n",
        "        loss = criterion(output, target)\n",
        "        mean_corrector = nb_movies/float(torch.sum(target.data > 0) + 1e-10)\n",
        "        test_loss += np.sqrt(loss.data*mean_corrector)\n",
        "        s += 1.\n",
        "print('test loss: '+str(test_loss/s))"
      ],
      "metadata": {
        "colab": {
          "base_uri": "https://localhost:8080/"
        },
        "id": "QdBjDVWEHIMj",
        "outputId": "4e60c0a3-25c2-4b5e-c407-7762c8d7e948"
      },
      "execution_count": 11,
      "outputs": [
        {
          "output_type": "stream",
          "name": "stderr",
          "text": [
            "/tmp/ipython-input-1678710381.py:12: DeprecationWarning: __array_wrap__ must accept context and return_scalar arguments (positionally) in the future. (Deprecated NumPy 2.0)\n",
            "  test_loss += np.sqrt(loss.data*mean_corrector)\n"
          ]
        },
        {
          "output_type": "stream",
          "name": "stdout",
          "text": [
            "test loss: tensor(0.9604)\n"
          ]
        }
      ]
    }
  ]
}